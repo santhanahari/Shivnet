{
  "nbformat": 4,
  "nbformat_minor": 0,
  "metadata": {
    "colab": {
      "name": "codenew.ipynb",
      "version": "0.3.2",
      "provenance": [],
      "include_colab_link": true
    },
    "kernelspec": {
      "display_name": "Python 3",
      "language": "python",
      "name": "python3"
    }
  },
  "cells": [
    {
      "cell_type": "markdown",
      "metadata": {
        "id": "view-in-github",
        "colab_type": "text"
      },
      "source": [
        "<a href=\"https://colab.research.google.com/github/santhanahari/Shivnet/blob/master/codenew.ipynb\" target=\"_parent\"><img src=\"https://colab.research.google.com/assets/colab-badge.svg\" alt=\"Open In Colab\"/></a>"
      ]
    },
    {
      "metadata": {
        "id": "eiFwRpCm5t53",
        "colab_type": "code",
        "colab": {}
      },
      "cell_type": "code",
      "source": [
        "from os import environ, chdir\n",
        "\n",
        "from keras.preprocessing.image import ImageDataGenerator\n",
        "\n",
        "from keras.layers.normalization import BatchNormalization\n",
        "\n",
        "from keras import models, layers, optimizers, callbacks\n",
        "\n",
        "#environ['TF_CPP_MIN_LOG_LEVEL'] = '3'\n",
        "#chdir(r'/home/user001/FP/Data38')"
      ],
      "execution_count": 0,
      "outputs": []
    },
    {
      "metadata": {
        "id": "sALuAC0N54PS",
        "colab_type": "code",
        "colab": {
          "base_uri": "https://localhost:8080/",
          "height": 140
        },
        "outputId": "dd024e00-885c-4041-ae60-f569c2678386"
      },
      "cell_type": "code",
      "source": [
        "!git clone https://github.com/santhanahari/Shivnet2.git"
      ],
      "execution_count": 3,
      "outputs": [
        {
          "output_type": "stream",
          "text": [
            "Cloning into 'Shivnet2'...\n",
            "remote: Enumerating objects: 1743, done.\u001b[K\n",
            "remote: Counting objects: 100% (1743/1743), done.\u001b[K\n",
            "remote: Compressing objects: 100% (1741/1741), done.\u001b[K\n",
            "remote: Total 1743 (delta 5), reused 1732 (delta 0), pack-reused 0\u001b[K\n",
            "Receiving objects: 100% (1743/1743), 16.21 MiB | 43.01 MiB/s, done.\n",
            "Resolving deltas: 100% (5/5), done.\n"
          ],
          "name": "stdout"
        }
      ]
    },
    {
      "metadata": {
        "id": "hDgMDbjG6ZdE",
        "colab_type": "code",
        "colab": {
          "base_uri": "https://localhost:8080/",
          "height": 34
        },
        "outputId": "528929a8-bdcd-4ade-a81e-6918f6a65c77"
      },
      "cell_type": "code",
      "source": [
        "!ls"
      ],
      "execution_count": 5,
      "outputs": [
        {
          "output_type": "stream",
          "text": [
            "sample_data  Shivnet2\n"
          ],
          "name": "stdout"
        }
      ]
    },
    {
      "metadata": {
        "id": "8hOKwjT65t6D",
        "colab_type": "code",
        "colab": {
          "base_uri": "https://localhost:8080/",
          "height": 52
        },
        "outputId": "b3763e81-5ab1-4eb4-d047-7608b2bba19d"
      },
      "cell_type": "code",
      "source": [
        "# Setting Image and Data Generators\n",
        "train_idg = ImageDataGenerator(rescale=1. / 255,\n",
        "                               zoom_range=[1.0, 1.25],\n",
        "                               width_shift_range=0.1,\n",
        "                               height_shift_range=0.1,\n",
        "                               fill_mode='reflect')\n",
        "\n",
        "train_g = train_idg.flow_from_directory(directory=\"Shivnet2/Dataset/Train\",\n",
        "                                        target_size=(100, 100),\n",
        "                                        batch_size=12,\n",
        "                                        class_mode='binary',\n",
        "                                        shuffle=True)\n",
        "\n",
        "valid_idg = ImageDataGenerator(rescale=1. / 255)\n",
        "\n",
        "valid_g = valid_idg.flow_from_directory(directory=\"Shivnet2/Dataset/valid\",\n",
        "                                        target_size=(100, 100),\n",
        "                                        batch_size=12,\n",
        "                                        class_mode='binary',\n",
        "                                        shuffle=True)"
      ],
      "execution_count": 13,
      "outputs": [
        {
          "output_type": "stream",
          "text": [
            "Found 1702 images belonging to 2 classes.\n",
            "Found 20 images belonging to 2 classes.\n"
          ],
          "name": "stdout"
        }
      ]
    },
    {
      "metadata": {
        "id": "V8mAEdla5t6L",
        "colab_type": "code",
        "colab": {
          "base_uri": "https://localhost:8080/",
          "height": 1284
        },
        "outputId": "20f32b5d-0d8b-4e78-d518-a0373c0c0f74"
      },
      "cell_type": "code",
      "source": [
        "# CNN Architecture\n",
        "my_model = models.Sequential()\n",
        "my_model.add(layers.Conv2D(filters=32, kernel_size=(2, 2), strides=(1, 1),\n",
        "                           input_shape=(100, 100, 3)))\n",
        "my_model.add(layers.Activation('relu'))\n",
        "my_model.add(layers.Conv2D(filters=32, kernel_size=(2, 2), strides=(1, 1)))\n",
        "my_model.add(layers.Activation('relu'))\n",
        "my_model.add(layers.Conv2D(filters=32, kernel_size=(2, 2), strides=(1, 1)))\n",
        "my_model.add(layers.Activation('relu'))\n",
        "my_model.add(layers.MaxPooling2D(pool_size=(2, 2)))\n",
        "my_model.add(BatchNormalization())\n",
        "\n",
        "my_model.add(layers.Dropout(rate=0.4))\n",
        "\n",
        "my_model.add(layers.Conv2D(filters=64, kernel_size=(2, 2), strides=(1, 1)))\n",
        "my_model.add(layers.Activation('relu'))\n",
        "my_model.add(layers.Conv2D(filters=64, kernel_size=(2, 2), strides=(1, 1)))\n",
        "my_model.add(layers.Activation('relu'))\n",
        "my_model.add(layers.MaxPooling2D(pool_size=(2, 2)))\n",
        "my_model.add(BatchNormalization())\n",
        "\n",
        "my_model.add(layers.Dropout(rate=0.4))\n",
        "\n",
        "my_model.add(layers.Conv2D(filters=64, kernel_size=(2, 2), strides=(1, 1)))\n",
        "my_model.add(layers.Activation('relu'))\n",
        "my_model.add(layers.MaxPooling2D(pool_size=(2, 2)))\n",
        "my_model.add(BatchNormalization())\n",
        "\n",
        "my_model.add(layers.Conv2D(filters=64, kernel_size=(2, 2), strides=(1, 1)))\n",
        "my_model.add(layers.Activation('relu'))\n",
        "my_model.add(layers.MaxPooling2D(pool_size=(2, 2)))\n",
        "my_model.add(BatchNormalization())\n",
        "\n",
        "\n",
        "my_model.add(layers.Flatten())\n",
        "\n",
        "my_model.add(layers.Dropout(rate=0.4))\n",
        "my_model.add(layers.Dense(units=95))\n",
        "my_model.add(layers.Activation('relu'))\n",
        "my_model.add(layers.Dense(units=95))\n",
        "my_model.add(layers.Activation('relu'))\n",
        "\n",
        "\n",
        "my_model.add(layers.Dense(units=1))\n",
        "my_model.add(layers.Activation('sigmoid'))\n",
        "print(my_model.summary())\n",
        "\n",
        "\n",
        "\n",
        "\n",
        "\n",
        "\n"
      ],
      "execution_count": 18,
      "outputs": [
        {
          "output_type": "stream",
          "text": [
            "_________________________________________________________________\n",
            "Layer (type)                 Output Shape              Param #   \n",
            "=================================================================\n",
            "conv2d_8 (Conv2D)            (None, 99, 99, 32)        416       \n",
            "_________________________________________________________________\n",
            "activation_11 (Activation)   (None, 99, 99, 32)        0         \n",
            "_________________________________________________________________\n",
            "conv2d_9 (Conv2D)            (None, 98, 98, 32)        4128      \n",
            "_________________________________________________________________\n",
            "activation_12 (Activation)   (None, 98, 98, 32)        0         \n",
            "_________________________________________________________________\n",
            "conv2d_10 (Conv2D)           (None, 97, 97, 32)        4128      \n",
            "_________________________________________________________________\n",
            "activation_13 (Activation)   (None, 97, 97, 32)        0         \n",
            "_________________________________________________________________\n",
            "max_pooling2d_5 (MaxPooling2 (None, 48, 48, 32)        0         \n",
            "_________________________________________________________________\n",
            "batch_normalization_5 (Batch (None, 48, 48, 32)        128       \n",
            "_________________________________________________________________\n",
            "dropout_4 (Dropout)          (None, 48, 48, 32)        0         \n",
            "_________________________________________________________________\n",
            "conv2d_11 (Conv2D)           (None, 47, 47, 64)        8256      \n",
            "_________________________________________________________________\n",
            "activation_14 (Activation)   (None, 47, 47, 64)        0         \n",
            "_________________________________________________________________\n",
            "conv2d_12 (Conv2D)           (None, 46, 46, 64)        16448     \n",
            "_________________________________________________________________\n",
            "activation_15 (Activation)   (None, 46, 46, 64)        0         \n",
            "_________________________________________________________________\n",
            "max_pooling2d_6 (MaxPooling2 (None, 23, 23, 64)        0         \n",
            "_________________________________________________________________\n",
            "batch_normalization_6 (Batch (None, 23, 23, 64)        256       \n",
            "_________________________________________________________________\n",
            "dropout_5 (Dropout)          (None, 23, 23, 64)        0         \n",
            "_________________________________________________________________\n",
            "conv2d_13 (Conv2D)           (None, 22, 22, 64)        16448     \n",
            "_________________________________________________________________\n",
            "activation_16 (Activation)   (None, 22, 22, 64)        0         \n",
            "_________________________________________________________________\n",
            "max_pooling2d_7 (MaxPooling2 (None, 11, 11, 64)        0         \n",
            "_________________________________________________________________\n",
            "batch_normalization_7 (Batch (None, 11, 11, 64)        256       \n",
            "_________________________________________________________________\n",
            "conv2d_14 (Conv2D)           (None, 10, 10, 64)        16448     \n",
            "_________________________________________________________________\n",
            "activation_17 (Activation)   (None, 10, 10, 64)        0         \n",
            "_________________________________________________________________\n",
            "max_pooling2d_8 (MaxPooling2 (None, 5, 5, 64)          0         \n",
            "_________________________________________________________________\n",
            "batch_normalization_8 (Batch (None, 5, 5, 64)          256       \n",
            "_________________________________________________________________\n",
            "flatten_2 (Flatten)          (None, 1600)              0         \n",
            "_________________________________________________________________\n",
            "dropout_6 (Dropout)          (None, 1600)              0         \n",
            "_________________________________________________________________\n",
            "dense_4 (Dense)              (None, 95)                152095    \n",
            "_________________________________________________________________\n",
            "activation_18 (Activation)   (None, 95)                0         \n",
            "_________________________________________________________________\n",
            "dense_5 (Dense)              (None, 95)                9120      \n",
            "_________________________________________________________________\n",
            "activation_19 (Activation)   (None, 95)                0         \n",
            "_________________________________________________________________\n",
            "dense_6 (Dense)              (None, 1)                 96        \n",
            "_________________________________________________________________\n",
            "activation_20 (Activation)   (None, 1)                 0         \n",
            "=================================================================\n",
            "Total params: 228,479\n",
            "Trainable params: 228,031\n",
            "Non-trainable params: 448\n",
            "_________________________________________________________________\n",
            "None\n"
          ],
          "name": "stdout"
        }
      ]
    },
    {
      "metadata": {
        "id": "cg1rSgUX5t6T",
        "colab_type": "code",
        "colab": {}
      },
      "cell_type": "code",
      "source": [
        "# Model Loss function and Optimizer mhod\n",
        "compile = my_model.compile(optimizer=optimizers.sgd(lr=0.28), loss='binary_crossentropy',\n",
        "                           metrics=['accuracy'])"
      ],
      "execution_count": 0,
      "outputs": []
    },
    {
      "metadata": {
        "id": "b-mwgLGY5t6d",
        "colab_type": "code",
        "colab": {}
      },
      "cell_type": "code",
      "source": [
        "# Settting Callbacks\n",
        "check_p = callbacks.ModelCheckpoint(filepath='38_1_Plant__{val_acc:.2f}.h5',\n",
        "                                    monitor='val_acc', verbose=1,\n",
        "                                    save_best_only=True, save_weights_only=False)\n",
        "reduce_lr = callbacks.ReduceLROnPlateau(monitor='val_acc', factor=0.95, patience=3,\n",
        "                                        verbose=1, cooldown=2)\n",
        "callb_l = [check_p, reduce_lr]\n"
      ],
      "execution_count": 0,
      "outputs": []
    },
    {
      "metadata": {
        "id": "6DprmExz5t6k",
        "colab_type": "code",
        "colab": {
          "base_uri": "https://localhost:8080/",
          "height": 756
        },
        "outputId": "49991d18-cc87-41a0-c372-474a2fa4c1fc"
      },
      "cell_type": "code",
      "source": [
        "# Training Options\n",
        "fit = my_model.fit_generator(generator=train_g, steps_per_epoch=25, epochs=10, verbose=1,\n",
        "                             callbacks=callb_l, validation_data=valid_g, validation_steps=4)\n"
      ],
      "execution_count": 22,
      "outputs": [
        {
          "output_type": "stream",
          "text": [
            "Epoch 1/10\n",
            "25/25 [==============================] - 17s 663ms/step - loss: 0.1401 - acc: 0.9600 - val_loss: 8.3698 - val_acc: 0.4750\n",
            "\n",
            "Epoch 00001: val_acc did not improve from 0.95000\n",
            "Epoch 2/10\n",
            "25/25 [==============================] - 16s 641ms/step - loss: 0.0441 - acc: 0.9833 - val_loss: 7.7227 - val_acc: 0.5000\n",
            "\n",
            "Epoch 00002: val_acc did not improve from 0.95000\n",
            "Epoch 3/10\n",
            "25/25 [==============================] - 16s 644ms/step - loss: 0.0142 - acc: 0.9933 - val_loss: 2.9087 - val_acc: 0.5000\n",
            "\n",
            "Epoch 00003: val_acc did not improve from 0.95000\n",
            "Epoch 4/10\n",
            "25/25 [==============================] - 16s 640ms/step - loss: 0.0319 - acc: 0.9867 - val_loss: 1.5623 - val_acc: 0.5750\n",
            "\n",
            "Epoch 00004: val_acc did not improve from 0.95000\n",
            "Epoch 5/10\n",
            "25/25 [==============================] - 17s 663ms/step - loss: 0.0773 - acc: 0.9667 - val_loss: 2.4614 - val_acc: 0.4250\n",
            "\n",
            "Epoch 00005: val_acc did not improve from 0.95000\n",
            "Epoch 6/10\n",
            "25/25 [==============================] - 16s 646ms/step - loss: 0.0420 - acc: 0.9900 - val_loss: 0.0657 - val_acc: 1.0000\n",
            "\n",
            "Epoch 00006: val_acc improved from 0.95000 to 1.00000, saving model to 38_1_Plant__1.00.h5\n",
            "Epoch 7/10\n",
            "25/25 [==============================] - 16s 643ms/step - loss: 0.0166 - acc: 0.9933 - val_loss: 0.1920 - val_acc: 0.9000\n",
            "\n",
            "Epoch 00007: val_acc did not improve from 1.00000\n",
            "Epoch 8/10\n",
            "25/25 [==============================] - 16s 635ms/step - loss: 0.0011 - acc: 1.0000 - val_loss: 0.2363 - val_acc: 0.9250\n",
            "\n",
            "Epoch 00008: val_acc did not improve from 1.00000\n",
            "Epoch 9/10\n",
            "25/25 [==============================] - 16s 647ms/step - loss: 0.0102 - acc: 0.9967 - val_loss: 0.0121 - val_acc: 1.0000\n",
            "\n",
            "Epoch 00009: val_acc did not improve from 1.00000\n",
            "\n",
            "Epoch 00009: ReduceLROnPlateau reducing learning rate to 0.24006500095129013.\n",
            "Epoch 10/10\n",
            "25/25 [==============================] - 16s 642ms/step - loss: 0.0223 - acc: 0.9867 - val_loss: 0.0169 - val_acc: 1.0000\n",
            "\n",
            "Epoch 00010: val_acc did not improve from 1.00000\n"
          ],
          "name": "stdout"
        }
      ]
    },
    {
      "metadata": {
        "id": "iU7vf3Z25t6u",
        "colab_type": "code",
        "colab": {}
      },
      "cell_type": "code",
      "source": [
        "# Saving Model\n",
        "my_model.save(filepath=r'10Plant__.h5', overwrite=True)\n"
      ],
      "execution_count": 0,
      "outputs": []
    }
  ]
}